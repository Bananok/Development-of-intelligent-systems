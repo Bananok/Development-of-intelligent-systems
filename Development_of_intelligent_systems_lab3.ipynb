{
  "cells": [
    {
      "cell_type": "markdown",
      "source": [
        "# Controller"
      ],
      "metadata": {
        "id": "NMxRHShnKFjp"
      }
    },
    {
      "cell_type": "code",
      "execution_count": 22,
      "metadata": {
        "id": "VKXdgGKgU1i8"
      },
      "outputs": [],
      "source": [
        "class remoteController:\n",
        "  def __init__(item, startFloor1, startFloor2, floor_count):\n",
        "    item.floor_count = floor_count\n",
        "    item.elevator1 = mainElevator(startFloor1, 1)\n",
        "    item.elevator2 = mainElevator(startFloor2, 2)\n",
        "    item.stack = []\n",
        "    item.stack_elevator1 = []\n",
        "    item.stack_elevator2 = []\n",
        "    item.currentStep = None\n",
        "    item.nextStep = None\n",
        "    item.isError = False\n",
        "\n",
        "  def initStack(item, stack):\n",
        "    item.stack.extend(stack)\n",
        "\n",
        "  def findItem(item, command):\n",
        "    if command[0] < command[1]:\n",
        "      return \"goUp\"\n",
        "    elif command[0] > command[1]:\n",
        "      return \"goDown\"\n",
        "\n",
        "  def checkEmpty(item):\n",
        "    if len(item.stack_elevator1) == 0 and len(item.stack_elevator2) == 0:\n",
        "      return \"all\"\n",
        "    elif len(item.stack_elevator1) == 0:\n",
        "      return 1\n",
        "    elif len(item.stack_elevator2) == 0:\n",
        "      return 2\n",
        "    else:\n",
        "      \"None\"\n",
        "    \n",
        "  def changeItem(item, command):\n",
        "    if(len(item.stack_elevator1)>0 and len(item.stack_elevator2)>0):\n",
        "      if abs(item.stack_elevator1[-1] - command[0]) <= abs(item.stack_elevator2[-1] - command[0]):\n",
        "        return 1\n",
        "      else:\n",
        "        return 2\n",
        "    else:\n",
        "      if abs(item.elevator1.current_position - command[0]) <= abs(item.elevator2.current_position - command[0]):\n",
        "        return 1\n",
        "      else:\n",
        "        return 2\n",
        "\n",
        "  def passenger(item, command, number):\n",
        "    if number == 1:\n",
        "      if item.findItem(command) == item.findItem((item.stack_elevator1[-2], item.stack_elevator1[-1])):\n",
        "        if command[0] >= item.stack_elevator1[-2] and command[0] <= item.stack_elevator1[-1] or command[0] <= item.stack_elevator1[-2] and command[0] >= item.stack_elevator1[-1]:\n",
        "          item.stack_elevator1.insert(-1, command[0])\n",
        "          item.stack_elevator1.append(command[1])\n",
        "          return True\n",
        "      return False\n",
        "    elif number == 2:\n",
        "      if item.findItem(command) == item.findItem((item.stack_elevator2[-2], item.stack_elevator2[-1])):\n",
        "        if command[0] >= item.stack_elevator2[-2] and command[0] <= item.stack_elevator2[-1] or command[0] <= item.stack_elevator2[-2] and command[0] >= item.stack_elevator2[-1]:\n",
        "          item.stack_elevator2.insert(-1, command[0])\n",
        "          item.stack_elevator2.append(command[1])\n",
        "          return True\n",
        "      return False\n",
        "\n",
        "  def optimize(item, stack):\n",
        "    for i in range(len(stack) - 1, 0, -1):\n",
        "      if stack[i] == stack[i-1]:\n",
        "        del stack[i]\n",
        "\n",
        "  def distribution(item):\n",
        "    while(len(item.stack) > 0):\n",
        "      isPassenger = False\n",
        "      item.currentStep = item.stack.pop(0)\n",
        "      item.setError(item.currentStep)\n",
        "      if item.isError:\n",
        "        return\n",
        "      isEmpty = item.checkEmpty()\n",
        "      if(isEmpty == \"all\"):\n",
        "        if item.changeItem(item.currentStep) == 1:\n",
        "          item.stack_elevator1.append(item.currentStep[0])\n",
        "          item.stack_elevator1.append(item.currentStep[1])\n",
        "        else:\n",
        "          item.stack_elevator2.append(item.currentStep[0])\n",
        "          item.stack_elevator2.append(item.currentStep[1])\n",
        "      elif(isEmpty == 1):\n",
        "        isPassenger = item.passenger(item.currentStep, 2)\n",
        "        if isPassenger == False:\n",
        "          item.stack_elevator1.append(item.currentStep[0])\n",
        "          item.stack_elevator1.append(item.currentStep[1])\n",
        "      elif(isEmpty == 2):\n",
        "        isPassenger = item.passenger(item.currentStep, 1)\n",
        "        if isPassenger == False:\n",
        "          item.stack_elevator2.append(item.currentStep[0])\n",
        "          item.stack_elevator2.append(item.currentStep[1])  \n",
        "      else:\n",
        "        isPassenger1 = item.passenger(item.currentStep, 2)\n",
        "        isPassenger2 = item.passenger(item.currentStep, 1)\n",
        "        if isPassenger1 == False and isPassenger2 == False:\n",
        "          if item.changeItem(item.currentStep) == 1:\n",
        "            item.stack_elevator1.append(item.currentStep[0])\n",
        "            item.stack_elevator1.append(item.currentStep[1])\n",
        "          else:\n",
        "            item.stack_elevator2.append(item.currentStep[0])\n",
        "            item.stack_elevator2.append(item.currentStep[1])\n",
        "      \n",
        "      item.optimize(item.stack_elevator1)\n",
        "      item.optimize(item.stack_elevator2)\n",
        "\n",
        "  def run(item):\n",
        "    if item.isError:\n",
        "      return\n",
        "    print(item.stack_elevator1)\n",
        "    print(item.stack_elevator2)\n",
        "    item.elevator1.run(item.stack_elevator1)\n",
        "    item.elevator2.run(item.stack_elevator2)\n",
        "  \n",
        "  def setError(item, command):\n",
        "    if command[0] > item.floor_count or command[1] > item.floor_count or command[0] < 1 or command[1] < 1:\n",
        "      print(\"Error!\")\n",
        "      item.isError = True\n"
      ]
    },
    {
      "cell_type": "markdown",
      "source": [
        "# Main elevator"
      ],
      "metadata": {
        "id": "0FEmjjqSKKzn"
      }
    },
    {
      "cell_type": "code",
      "execution_count": 23,
      "metadata": {
        "id": "IgNxNslT14Zw"
      },
      "outputs": [],
      "source": [
        "class mainElevator:\n",
        "  def __init__(item, start_position, numberElevator):\n",
        "    item.numberElevator = numberElevator\n",
        "    item.current_position = start_position\n",
        "    item.stack_positions = []\n",
        "    item.next_position = None\n",
        "    item.isError = False\n",
        "    item.isStoped = False\n",
        "        \n",
        "  def action(item):\n",
        "    print(f\"Elevator № {item.numberElevator} arrived at {item.current_position} floor\")\n",
        "  \n",
        "  def goUp(item):\n",
        "    item.current_position += 1\n",
        "    print(f\"Elevator {item.numberElevator} went up 1 floor\")\n",
        "\n",
        "  def goDown(item):\n",
        "    item.current_position -= 1\n",
        "    print(f\"Elevator {item.numberElevator} went down 1 floor\")\n",
        "\n",
        "  def atRest(item):\n",
        "    item.next_position = item.stack_positions.pop(0)\n",
        "      \n",
        "\n",
        "  def notMove(item):\n",
        "    item.action()\n",
        "\n",
        "  def moveUp(item):\n",
        "    while item.current_position < item.next_position:\n",
        "      item.goUp()\n",
        "    item.notMove()\n",
        "\n",
        "  def moveDown(item):\n",
        "    while item.current_position > item.next_position:\n",
        "      item.goDown()\n",
        "    item.notMove()\n",
        "\n",
        "  def run(item, stack_positions):\n",
        "    item.stack_positions = stack_positions\n",
        "    while(len(item.stack_positions) > 0):\n",
        "      item.atRest()\n",
        "      if item.current_position == item.next_position:\n",
        "        item.state = 2\n",
        "        item.notMove()\n",
        "      elif item.current_position < item.next_position:\n",
        "        item.state = 3\n",
        "        item.moveUp()\n",
        "      else:\n",
        "        item.state = 4\n",
        "        item.moveDown()\n",
        "    print(f\"Elevator № {item.numberElevator} is at rest\")"
      ]
    },
    {
      "cell_type": "markdown",
      "source": [
        "# Tests"
      ],
      "metadata": {
        "id": "pluVwgN_KQuH"
      }
    },
    {
      "cell_type": "code",
      "source": [
        "testElevator1 = remoteController(3, 7, 2)\n",
        "testElevator1.initStack([(3, 7), (7, 6), (5, 8), (2, 4), (3,5), (1, 2)])\n",
        "testElevator1.distribution()\n",
        "testElevator1.run()"
      ],
      "metadata": {
        "colab": {
          "base_uri": "https://localhost:8080/"
        },
        "id": "n8MQZRR8Ls4f",
        "outputId": "9e58c44d-f22e-416d-cd12-e5f288ea741d"
      },
      "execution_count": 27,
      "outputs": [
        {
          "output_type": "stream",
          "name": "stdout",
          "text": [
            "Error!\n"
          ]
        }
      ]
    },
    {
      "cell_type": "code",
      "execution_count": 28,
      "metadata": {
        "colab": {
          "base_uri": "https://localhost:8080/"
        },
        "id": "szCT6kzc_bIj",
        "outputId": "f759ad3d-3d81-4c98-afeb-78666a351450"
      },
      "outputs": [
        {
          "output_type": "stream",
          "name": "stdout",
          "text": [
            "[1, 5, 6, 8]\n",
            "[2, 3, 4, 5, 1, 2]\n",
            "Elevator № 1 arrived at 1 floor\n",
            "Elevator 1 went up 1 floor\n",
            "Elevator 1 went up 1 floor\n",
            "Elevator 1 went up 1 floor\n",
            "Elevator 1 went up 1 floor\n",
            "Elevator № 1 arrived at 5 floor\n",
            "Elevator 1 went up 1 floor\n",
            "Elevator № 1 arrived at 6 floor\n",
            "Elevator 1 went up 1 floor\n",
            "Elevator 1 went up 1 floor\n",
            "Elevator № 1 arrived at 8 floor\n",
            "Elevator № 1 is at rest\n",
            "Elevator 2 went down 1 floor\n",
            "Elevator 2 went down 1 floor\n",
            "Elevator 2 went down 1 floor\n",
            "Elevator № 2 arrived at 2 floor\n",
            "Elevator 2 went up 1 floor\n",
            "Elevator № 2 arrived at 3 floor\n",
            "Elevator 2 went up 1 floor\n",
            "Elevator № 2 arrived at 4 floor\n",
            "Elevator 2 went up 1 floor\n",
            "Elevator № 2 arrived at 5 floor\n",
            "Elevator 2 went down 1 floor\n",
            "Elevator 2 went down 1 floor\n",
            "Elevator 2 went down 1 floor\n",
            "Elevator 2 went down 1 floor\n",
            "Elevator № 2 arrived at 1 floor\n",
            "Elevator 2 went up 1 floor\n",
            "Elevator № 2 arrived at 2 floor\n",
            "Elevator № 2 is at rest\n"
          ]
        }
      ],
      "source": [
        "testElevator2 = remoteController(1, 5, 9)\n",
        "testElevator2.initStack([(1, 5), (5, 6), (5, 8), (2, 4), (3,5), (1, 2)])\n",
        "testElevator2.distribution()\n",
        "testElevator2.run()"
      ]
    }
  ],
  "metadata": {
    "colab": {
      "provenance": []
    },
    "kernelspec": {
      "display_name": "Python 3",
      "name": "python3"
    },
    "language_info": {
      "name": "python"
    }
  },
  "nbformat": 4,
  "nbformat_minor": 0
}